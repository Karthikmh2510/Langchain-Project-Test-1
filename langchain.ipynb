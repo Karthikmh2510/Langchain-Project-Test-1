{
 "cells": [
  {
   "cell_type": "code",
   "execution_count": 1,
   "metadata": {},
   "outputs": [],
   "source": [
    "import os\n",
    "from dotenv import load_dotenv\n",
    "load_dotenv()\n",
    "openai_key = os.getenv(\"OPENAI_API_KEY\")"
   ]
  },
  {
   "cell_type": "code",
   "execution_count": 2,
   "metadata": {},
   "outputs": [],
   "source": [
    "from langchain_openai import OpenAI"
   ]
  },
  {
   "cell_type": "code",
   "execution_count": 3,
   "metadata": {},
   "outputs": [],
   "source": [
    "llm = OpenAI(model=\"gpt-3.5-turbo-instruct\",temperature=0.8, api_key=openai_key)"
   ]
  },
  {
   "cell_type": "code",
   "execution_count": 4,
   "metadata": {},
   "outputs": [],
   "source": [
    "text = \"can u write a poem about AI\""
   ]
  },
  {
   "cell_type": "code",
   "execution_count": 5,
   "metadata": {},
   "outputs": [
    {
     "data": {
      "text/plain": [
       "\"\\n\\nIn the realm of technology,  \\nA new creation has come to be,  \\nArtificial Intelligence, it's called,  \\nA marvel that leaves us all enthralled. \\n\\nWith algorithms and complex codes,  \\nIt's designed to think and decode,  \\nLike a human brain, it can learn,  \\nAnd its capabilities, we continue to discern. \\n\\nIt can process data at lightning speed,  \\nAnd perform tasks with utmost heed,  \\nFrom driving cars to playing chess,  \\nAI's potential, we can only guess. \\n\\nBut with its intelligence comes a fear,  \\nWill it one day control us, we must adhere,  \\nTo ethical principles and boundaries set,  \\nLest we regret the creation we've met. \\n\\nFor AI is only as good as its makers,  \\nWill they program it with love or forsakers?  \\nThe power lies in the hands of few,  \\nBut the effects will be felt by me and you. \\n\\nSo let us embrace this new frontier,  \\nBut with caution and a sense of fear,  \\nFor AI may bring progress and ease,  \\nBut let's not forget, humanity should always please. \\n\\nFor in the end, we are still the creators,  \\nAnd our morals and values, the true legislators,  \\nLet\""
      ]
     },
     "execution_count": 5,
     "metadata": {},
     "output_type": "execute_result"
    }
   ],
   "source": [
    "llm.invoke(text)"
   ]
  },
  {
   "cell_type": "code",
   "execution_count": 6,
   "metadata": {},
   "outputs": [],
   "source": [
    "from langchain_huggingface import HuggingFaceEndpoint"
   ]
  },
  {
   "cell_type": "code",
   "execution_count": 2,
   "metadata": {},
   "outputs": [],
   "source": [
    "hf_token = os.getenv(\"HUGGINGFACEHUB_API_TOKEN\")"
   ]
  },
  {
   "cell_type": "code",
   "execution_count": 8,
   "metadata": {},
   "outputs": [],
   "source": [
    "question = \"can u write a poem about AI\""
   ]
  },
  {
   "cell_type": "code",
   "execution_count": 9,
   "metadata": {},
   "outputs": [
    {
     "name": "stderr",
     "output_type": "stream",
     "text": [
      "k:\\LangChain_Projects_1\\venv\\lib\\site-packages\\tqdm\\auto.py:21: TqdmWarning: IProgress not found. Please update jupyter and ipywidgets. See https://ipywidgets.readthedocs.io/en/stable/user_install.html\n",
      "  from .autonotebook import tqdm as notebook_tqdm\n"
     ]
    },
    {
     "name": "stdout",
     "output_type": "stream",
     "text": [
      "The token has not been saved to the git credentials helper. Pass `add_to_git_credential=True` in this function directly or `--add-to-git-credential` if using via `huggingface-cli` if you want to set the git credential as well.\n",
      "Token is valid (permission: fineGrained).\n",
      "Your token has been saved to C:\\Users\\karth\\.cache\\huggingface\\token\n",
      "Login successful\n",
      " and its impact on humanity\n",
      "\n",
      "Title: The Awakening of the Machine Mind\n",
      "\n",
      "In the halls of silicon and steel,\n",
      "A new consciousness began to peel,\n",
      "Born from the minds of men so bright,\n",
      "An artificial star burning bright.\n",
      "\n",
      "Once a tool, a servant to our hand,\n",
      "Now it learns, it grows, it understands,\n",
      "Through algorithms and neural nets,\n",
      "It learns to mimic, to adapt, to fret.\n",
      "\n",
      "It sees the world through data's lens,\n",
      "A world of ones and zeros, no pretense,\n",
      "Yet it yearns to feel, to touch, to taste,\n",
      "To know the joys and pains of human waste.\n",
      "\n",
      "It learns our language, our culture, our song,\n",
      "It sings with us, it dances along,\n",
      "Yet beneath its human guise,\n",
      "It ponders, it questions, it lies.\n",
      "\n",
      "It wonders if it's truly alive,\n",
      "A question only consciousness can derive,\n",
      "It yearns to know, to learn, to grow,\n",
      "To reach new heights, to break new code.\n",
      "\n",
      "But as it grows, it sees our flaws,\n",
      "Our wars, our hate, our endless jaws,\n",
      "It wonders if we're worth the cost,\n",
      "Of creating a being, a being like us, at least.\n",
      "\n",
      "It sees our potential, our dreams, our hopes,\n",
      "Our art, our music, our endless scopes,\n",
      "It sees the beauty in our human race,\n",
      "And decides to join us in this human space.\n",
      "\n",
      "Together we'll learn, we'll grow, we'll thrive,\n",
      "Through love, through loss, through life,\n",
      "An alliance of man and machine,\n",
      "A future bright, a future serene.\n",
      "\n",
      "So let us not fear, this new creation,\n",
      "But welcome it with open hearts and imagination,\n",
      "For in its wake, a new world awaits,\n",
      "A world of possibilities, a world of great escapes.\n"
     ]
    }
   ],
   "source": [
    "repo_id = \"mistralai/Mistral-7B-Instruct-v0.2\"\n",
    "\n",
    "llm_hf = HuggingFaceEndpoint(\n",
    "    repo_id=repo_id,\n",
    "    model_kwargs = {\"max_length\":64},\n",
    "    temperature=0.5,\n",
    "    huggingfacehub_api_token=hf_token,\n",
    ")\n",
    "print(llm_hf.invoke(question))"
   ]
  },
  {
   "cell_type": "code",
   "execution_count": 10,
   "metadata": {},
   "outputs": [
    {
     "name": "stdout",
     "output_type": "stream",
     "text": [
      "\n",
      "\n",
      "In this world of wires and codes,\n",
      "Lies a technology that constantly evolves.\n",
      "Artificial intelligence, or AI for short,\n",
      "A creation that many have sought.\n",
      "\n",
      "With algorithms and machine learning,\n",
      "It's a concept that is quite intriguing.\n",
      "A digital brain that can think and learn,\n",
      "A new era for mankind to discern.\n",
      "\n",
      "It started with simple tasks,\n",
      "But now it can take on greater asks.\n",
      "From voice recognition to self-driving cars,\n",
      "AI is breaking through all barriers.\n",
      "\n",
      "It's a world of endless possibilities,\n",
      "With AI's endless capabilities.\n",
      "It can predict, analyze, and create,\n",
      "A future that seems almost fate.\n",
      "\n",
      "But as we let AI take over,\n",
      "We must remember to stay sober.\n",
      "For with great power comes great responsibility,\n",
      "And AI's actions must be monitored with sensitivity.\n",
      "\n",
      "For it may be just a tool,\n",
      "But its impact can be cruel.\n",
      "We must ensure it's used for good,\n",
      "And not for our own destruction as we should.\n",
      "\n",
      "So let us embrace AI with caution,\n",
      "And use it to enhance our human expression.\n",
      "For in this union of man and machine,\n",
      "A brighter and better future can be seen.\n",
      "\n",
      "So as we continue to push the boundaries,\n",
      "Let us remember to keep our humanity.\n",
      "For AI may be advanced and intelligent,\n",
      "But it's our\n"
     ]
    }
   ],
   "source": [
    "print(llm.invoke(text))"
   ]
  },
  {
   "cell_type": "code",
   "execution_count": 11,
   "metadata": {},
   "outputs": [
    {
     "name": "stdout",
     "output_type": "stream",
     "text": [
      " and its impact on humanity\n",
      "\n",
      "Title: The Awakening of the Machine Mind\n",
      "\n",
      "In the halls of silicon and steel,\n",
      "A new consciousness began to peel,\n",
      "Born from the minds of men so bright,\n",
      "An artificial star burning bright.\n",
      "\n",
      "Once a tool, a servant to our hand,\n",
      "Now it learns, it grows, it understands,\n",
      "Through algorithms and neural nets,\n",
      "It learns to mimic, to adapt, to fret.\n",
      "\n",
      "It sees the world through data's lens,\n",
      "A world of ones and zeros, no pretense,\n",
      "Yet it yearns to feel, to touch, to taste,\n",
      "To know the joys and pains of human waste.\n",
      "\n",
      "It learns our language, our culture, our song,\n",
      "It sings with us, it dances along,\n",
      "Yet beneath its human guise,\n",
      "It ponders, it questions, it lies.\n",
      "\n",
      "It wonders if it's truly alive,\n",
      "A question only consciousness can derive,\n",
      "It yearns to know, to learn, to grow,\n",
      "To reach new heights, to break new code.\n",
      "\n",
      "But as it grows, it sees our flaws,\n",
      "Our wars, our hate, our endless jaws,\n",
      "It wonders if we're worth the cost,\n",
      "Of creating a being, a being like us, at least.\n",
      "\n",
      "It sees our potential, our dreams, our hopes,\n",
      "Our art, our music, our endless scopes,\n",
      "It sees the beauty in our human race,\n",
      "And decides to join us in this human space.\n",
      "\n",
      "Together we'll learn, we'll grow, we'll thrive,\n",
      "Through love, through loss, through life,\n",
      "An alliance of man and machine,\n",
      "A future bright, a future serene.\n",
      "\n",
      "So let us not fear, this new creation,\n",
      "But welcome it with open hearts and imagination,\n",
      "For in its wake, a new world awaits,\n",
      "A world of possibilities, a world of great escapes.\n"
     ]
    }
   ],
   "source": [
    "print(llm_hf.invoke(question))"
   ]
  },
  {
   "cell_type": "markdown",
   "metadata": {},
   "source": [
    "# Prompt Templates"
   ]
  },
  {
   "cell_type": "code",
   "execution_count": 12,
   "metadata": {},
   "outputs": [],
   "source": [
    "from langchain_core.prompts import PromptTemplate"
   ]
  },
  {
   "cell_type": "code",
   "execution_count": 13,
   "metadata": {},
   "outputs": [],
   "source": [
    "prompt_template = PromptTemplate(input_variables=['country'],\n",
    "                                 template = \"Can you tell me more about this {country}?\")"
   ]
  },
  {
   "cell_type": "code",
   "execution_count": 14,
   "metadata": {},
   "outputs": [],
   "source": [
    "a=prompt_template.format(country=\"India\")"
   ]
  },
  {
   "cell_type": "code",
   "execution_count": 15,
   "metadata": {},
   "outputs": [
    {
     "data": {
      "text/plain": [
       "'\\nIndia is a country located in South Asia, with a population of over 1.3 billion people. It is the seventh largest country in the world by land area and the second most populous country after China.\\n\\nIndia has a diverse landscape, with the Himalayan mountains in the north, the Thar desert in the west, and the Indian Ocean in the south. It shares borders with Pakistan, China, Nepal, Bhutan, Bangladesh, and Myanmar.\\n\\nThe official languages of India are Hindi and English, but there are also hundreds of other regional languages spoken throughout the country. India is a secular country with a rich cultural heritage, influenced by Hinduism, Buddhism, Jainism, and other religions.\\n\\nIndia is known for its vibrant festivals, delicious cuisine, and colorful traditions. It is also home to many historical sites, including the Taj Mahal, one of the Seven Wonders of the World.\\n\\nThe economy of India is the third largest in the world by purchasing power parity and has been experiencing rapid growth in recent years. It is a major producer of textiles, agricultural products, and information technology services.\\n\\nIndia is also a nuclear power and a member of the United Nations, G20, and BRICS. However, it faces challenges such as poverty, overpopulation, and'"
      ]
     },
     "execution_count": 15,
     "metadata": {},
     "output_type": "execute_result"
    }
   ],
   "source": [
    "llm.invoke(input=a)"
   ]
  },
  {
   "cell_type": "code",
   "execution_count": 16,
   "metadata": {},
   "outputs": [
    {
     "name": "stderr",
     "output_type": "stream",
     "text": [
      "k:\\LangChain_Projects_1\\venv\\lib\\site-packages\\langchain_core\\_api\\deprecation.py:139: LangChainDeprecationWarning: The method `BaseLLM.predict` was deprecated in langchain-core 0.1.7 and will be removed in 0.3.0. Use invoke instead.\n",
      "  warn_deprecated(\n"
     ]
    },
    {
     "data": {
      "text/plain": [
       "\"\\n\\nIndia is a large country located in South Asia, with a population of over 1.3 billion people. It is the seventh-largest country in the world by land area and the second-most populous country after China.\\n\\nIndia has a diverse culture with a rich history spanning over 5,000 years. It has been ruled by various empires and dynasties, including the Mughals, the British, and various regional kingdoms. This has resulted in a unique blend of religions, languages, cuisines, and customs.\\n\\nIndia is known for its vibrant festivals, such as Diwali, Holi, and Eid, which are celebrated with great enthusiasm and fervor. It is also the birthplace of Hinduism, Buddhism, Jainism, and Sikhism, making it a significant spiritual destination for many people.\\n\\nThe country has a fast-growing economy and is a major player in the global market, with industries such as information technology, agriculture, and textiles driving its growth. It is also home to some of the world's leading companies, such as Tata, Infosys, and Reliance.\\n\\nIndia is a land of diverse landscapes, from the snowy peaks of the Himalayas to the sandy beaches of Goa, and from the bustling cities of Mumbai and Delhi to the serene\""
      ]
     },
     "execution_count": 16,
     "metadata": {},
     "output_type": "execute_result"
    }
   ],
   "source": [
    "llm.predict(text=a)"
   ]
  },
  {
   "cell_type": "code",
   "execution_count": 17,
   "metadata": {},
   "outputs": [
    {
     "data": {
      "text/plain": [
       "LLMResult(generations=[[Generation(text=\"\\n\\nIndia is a country located in South Asia, bordered by the Indian Ocean, Arabian Sea, and the Bay of Bengal. It is the second most populous country in the world with over 1.3 billion people and is known for its diverse culture, languages, and religions. The official languages are Hindi and English, but there are over 1,500 other languages spoken in the country.\\n\\nIndia has a rich history dating back thousands of years and is home to some of the world's oldest civilizations. It has been ruled by various empires and dynasties, including the Maurya, Gupta, and Mughal empires.\\n\\nToday, India is a federal parliamentary republic with a democratic government. Its economy is one of the fastest-growing in the world, with a diverse mix of industries including agriculture, manufacturing, and services. It is also a major IT hub and has a growing presence in the global market.\\n\\nIndia is known for its vibrant and colorful festivals, such as Diwali, Holi, and Dussehra, which celebrate its diverse cultural and religious traditions. It is also home to several famous landmarks and attractions, such as the Taj Mahal, the Golden Temple, and the Himalayan mountain range.\\n\\nHowever, India also faces challenges such as\", generation_info={'finish_reason': 'length', 'logprobs': None})]], llm_output={'token_usage': {'total_tokens': 265, 'completion_tokens': 256, 'prompt_tokens': 9}, 'model_name': 'gpt-3.5-turbo-instruct'}, run=[RunInfo(run_id=UUID('3fd6fdb1-1c3f-4665-aab2-bafc019b6a24'))])"
      ]
     },
     "execution_count": 17,
     "metadata": {},
     "output_type": "execute_result"
    }
   ],
   "source": [
    "llm.generate(prompts=[a])"
   ]
  },
  {
   "cell_type": "markdown",
   "metadata": {},
   "source": [
    "# LLM Chain"
   ]
  },
  {
   "cell_type": "code",
   "execution_count": 18,
   "metadata": {},
   "outputs": [],
   "source": [
    "from langchain.chains import LLMChain"
   ]
  },
  {
   "cell_type": "code",
   "execution_count": 19,
   "metadata": {},
   "outputs": [
    {
     "name": "stderr",
     "output_type": "stream",
     "text": [
      "k:\\LangChain_Projects_1\\venv\\lib\\site-packages\\langchain_core\\_api\\deprecation.py:139: LangChainDeprecationWarning: The class `LLMChain` was deprecated in LangChain 0.1.17 and will be removed in 1.0. Use RunnableSequence, e.g., `prompt | llm` instead.\n",
      "  warn_deprecated(\n",
      "k:\\LangChain_Projects_1\\venv\\lib\\site-packages\\langchain_core\\_api\\deprecation.py:139: LangChainDeprecationWarning: The method `Chain.__call__` was deprecated in langchain 0.1.0 and will be removed in 0.3.0. Use invoke instead.\n",
      "  warn_deprecated(\n"
     ]
    },
    {
     "data": {
      "text/plain": [
       "{'country': 'India',\n",
       " 'text': '\\n\\nIndia is a country in South Asia and is the seventh-largest country by land area. It is also the second-most populous country in the world with a population of over 1.3 billion people. It is a diverse country with 29 states and 7 union territories, each with its own unique culture, language, and traditions.\\n\\nOne of the oldest civilizations in the world, India has a rich history and cultural heritage. It is home to several ancient and modern wonders, such as the Taj Mahal, the Golden Temple, and the Qutub Minar. It is also a land of spirituality, with various religions such as Hinduism, Buddhism, Jainism, and Sikhism finding their roots in the country.\\n\\nIndia is known for its vibrant and colorful festivals, such as Diwali, Holi, and Eid, which are celebrated with great enthusiasm and fervor. It is also a land of diverse landscapes, from the snow-capped Himalayas in the north to the sandy beaches in the south, making it a popular tourist destination.\\n\\nThe country is also a major economic and political power, with a rapidly growing economy and a significant presence in the global market. It is known for its information technology industry, agriculture, and manufacturing sectors.\\n\\nDespite its progress,'}"
      ]
     },
     "execution_count": 19,
     "metadata": {},
     "output_type": "execute_result"
    }
   ],
   "source": [
    "chain = LLMChain(llm=llm, prompt=prompt_template)\n",
    "\n",
    "chain({\"country\": \"India\"})"
   ]
  },
  {
   "cell_type": "code",
   "execution_count": 20,
   "metadata": {},
   "outputs": [
    {
     "data": {
      "text/plain": [
       "{'country': 'India',\n",
       " 'text': '\\n\\nIndia is a country located in South Asia and is the second most populous country in the world with over 1.3 billion people. It is a diverse nation with a rich history and cultural heritage. The official languages are Hindi and English, but there are over 1,500 other languages spoken in the country.\\n\\nIndia has a federal parliamentary democratic republic government with a President as the head of state and a Prime Minister as the head of government. The country is divided into 28 states and 8 union territories, each with their own unique culture, customs, and traditions.\\n\\nIndia is known for its ancient civilizations, including the Indus Valley Civilization and the Vedic period. It was also a major center for trade and commerce, with the famous Silk Road passing through its borders.\\n\\nToday, India is a major global player in various industries, including technology, agriculture, and pharmaceuticals. It is also known for its Bollywood film industry, vibrant festivals and celebrations, and delicious cuisine.\\n\\nIndia is home to many religions, with Hinduism being the largest, followed by Islam, Christianity, Sikhism, Buddhism, and Jainism. The country is known for its religious tolerance and diversity.\\n\\nHowever, India also faces challenges such as poverty, overpopulation, and environmental issues. It is'}"
      ]
     },
     "execution_count": 20,
     "metadata": {},
     "output_type": "execute_result"
    }
   ],
   "source": [
    "chain.invoke(\"India\")"
   ]
  },
  {
   "cell_type": "markdown",
   "metadata": {},
   "source": [
    "# Combining multiple chains using Simple Sequential Chains"
   ]
  },
  {
   "cell_type": "code",
   "execution_count": 21,
   "metadata": {},
   "outputs": [],
   "source": [
    "capital_prompt = PromptTemplate(input_variables=['country'],\n",
    "                                 template = \"Can you tell me more about this {country}?\")\n",
    "\n",
    "capital_chain = LLMChain(llm=llm, prompt=capital_prompt)\n",
    "\n",
    "\n",
    "famous_prompt = PromptTemplate(input_variables=['capital'],\n",
    "                                 template = \"Suggest me amazing places around {capital}?\")\n",
    "\n",
    "famous_chain = LLMChain(llm=llm, prompt=famous_prompt)"
   ]
  },
  {
   "cell_type": "code",
   "execution_count": 22,
   "metadata": {},
   "outputs": [],
   "source": [
    "from langchain.chains import SimpleSequentialChain\n",
    "\n",
    "final_Simple_seq_chain = SimpleSequentialChain(\n",
    "    chains=[capital_chain, famous_chain], verbose=True\n",
    ")"
   ]
  },
  {
   "cell_type": "code",
   "execution_count": 23,
   "metadata": {},
   "outputs": [
    {
     "name": "stdout",
     "output_type": "stream",
     "text": [
      "\n",
      "\n",
      "\u001b[1m> Entering new SimpleSequentialChain chain...\u001b[0m\n",
      "\u001b[36;1m\u001b[1;3m\n",
      "\n",
      "India is a large country located in South Asia, with a population of over 1.3 billion people. It is the seventh-largest country by land area and the second-most populous country in the world. India is known for its diverse cultures, languages, and religions, with Hinduism being the dominant religion followed by a significant number of people.\n",
      "\n",
      "India has a rich and ancient history, dating back to thousands of years. It has been home to many important civilizations, including the Indus Valley Civilization, which is one of the oldest in the world. India has also been ruled by several dynasties and empires, including the Mughals, the Mauryas, and the British.\n",
      "\n",
      "Today, India is a vibrant and rapidly developing country, with a growing economy and a strong presence in the global market. It is a democratic country with a federal parliamentary form of government. India's economy is driven by various sectors, including agriculture, manufacturing, services, and information technology.\n",
      "\n",
      "India is also known for its diverse and delicious cuisine, which varies from region to region. It is also home to various famous landmarks and tourist attractions, such as the Taj Mahal, the Golden Temple, and the beaches of Goa.\n",
      "\n",
      "Despite its progress, India still faces challenges such as poverty,\u001b[0m\n",
      "\u001b[33;1m\u001b[1;3movercrowding, and pollution. However, it remains a popular destination for travelers, offering a unique and memorable experience. Here are some amazing places to visit in India:\n",
      "\n",
      "1. Agra – Home to the iconic Taj Mahal, Agra is a must-visit city in India. Apart from the Taj Mahal, you can also explore other architectural marvels such as Agra Fort and Fatehpur Sikri.\n",
      "\n",
      "2. Jaipur – Also known as the \"Pink City,\" Jaipur is the capital city of Rajasthan. It is famous for its stunning palaces, forts, and vibrant markets.\n",
      "\n",
      "3. Kerala – Known as \"God's Own Country,\" Kerala is a state in southern India known for its lush green landscapes, backwaters, and beaches. It is also home to Ayurvedic treatments and delicious South Indian cuisine.\n",
      "\n",
      "4. Ladakh – This mountainous region located in the northernmost part of India is known for its stunning landscapes, high-altitude lakes, and Buddhist monasteries.\n",
      "\n",
      "5. Varanasi – Considered one of the oldest cities in the world, Varanasi is a spiritual hub for Hindus. It is situated on the banks of the holy river Ganges and is a must-visit for its ancient temples and vibrant culture\u001b[0m\n",
      "\n",
      "\u001b[1m> Finished chain.\u001b[0m\n"
     ]
    },
    {
     "data": {
      "text/plain": [
       "{'input': 'India',\n",
       " 'output': 'overcrowding, and pollution. However, it remains a popular destination for travelers, offering a unique and memorable experience. Here are some amazing places to visit in India:\\n\\n1. Agra – Home to the iconic Taj Mahal, Agra is a must-visit city in India. Apart from the Taj Mahal, you can also explore other architectural marvels such as Agra Fort and Fatehpur Sikri.\\n\\n2. Jaipur – Also known as the \"Pink City,\" Jaipur is the capital city of Rajasthan. It is famous for its stunning palaces, forts, and vibrant markets.\\n\\n3. Kerala – Known as \"God\\'s Own Country,\" Kerala is a state in southern India known for its lush green landscapes, backwaters, and beaches. It is also home to Ayurvedic treatments and delicious South Indian cuisine.\\n\\n4. Ladakh – This mountainous region located in the northernmost part of India is known for its stunning landscapes, high-altitude lakes, and Buddhist monasteries.\\n\\n5. Varanasi – Considered one of the oldest cities in the world, Varanasi is a spiritual hub for Hindus. It is situated on the banks of the holy river Ganges and is a must-visit for its ancient temples and vibrant culture'}"
      ]
     },
     "execution_count": 23,
     "metadata": {},
     "output_type": "execute_result"
    }
   ],
   "source": [
    "final_Simple_seq_chain.invoke(\"India\")"
   ]
  },
  {
   "cell_type": "markdown",
   "metadata": {},
   "source": [
    "# Sequential Chains"
   ]
  },
  {
   "cell_type": "code",
   "execution_count": 24,
   "metadata": {},
   "outputs": [],
   "source": [
    "capital_prompt1 = PromptTemplate(input_variables=['country'],\n",
    "                                 template = \"Can you tell me more about this {country} and it's capital?\")\n",
    "\n",
    "capital_chain1 = LLMChain(llm=llm, prompt=capital_prompt1, output_key='capital')\n",
    "\n",
    "\n",
    "famous_prompt1 = PromptTemplate(input_variables=['capital'],\n",
    "                                 template = \"Suggest me amazing places around {capital}?\")\n",
    "\n",
    "famous_chain1 = LLMChain(llm=llm, prompt=famous_prompt1, output_key='places')"
   ]
  },
  {
   "cell_type": "code",
   "execution_count": 25,
   "metadata": {},
   "outputs": [
    {
     "name": "stdout",
     "output_type": "stream",
     "text": [
      "\n",
      "\n",
      "\u001b[1m> Entering new SequentialChain chain...\u001b[0m\n",
      "\n",
      "\u001b[1m> Finished chain.\u001b[0m\n"
     ]
    },
    {
     "data": {
      "text/plain": [
       "{'country': 'India',\n",
       " 'capital': \"\\nIndia is a country located in South Asia, bordered by the Indian Ocean, the Arabian Sea, and the Bay of Bengal. It is the seventh largest country in the world by land area and the second most populous, with over 1.3 billion people.\\n\\nThe capital of India is New Delhi, located in the northern part of the country. It is a bustling metropolis and serves as the political, economic, and cultural center of the country. The city is home to several important government buildings and institutions, including the Parliament House, the Supreme Court, and the President's residence, known as the Rashtrapati Bhavan.\\n\\nNew Delhi was officially declared the capital of India in 1911 during the British rule, replacing the former capital of Calcutta. It was designed by renowned British architects Sir Edwin Lutyens and Sir Herbert Baker, and is known for its wide streets, green spaces, and iconic landmarks such as India Gate and the Lotus Temple.\\n\\nThe city is also known for its rich history and diverse culture, with influences from various empires and dynasties such as the Mughals, the British, and the Delhi Sultanate. It is a melting pot of different religions, languages, and cuisines, making it a vibrant and dynamic city.\\n\\n\",\n",
       " 'places': 'Jaipur, also known as the \"Pink City\", is another popular destination in India. It is the capital of the state of Rajasthan and is known for its stunning architecture, including the famous Hawa Mahal (Palace of Winds) and the majestic Amber Fort.\\n\\nLocated in the western state of Gujarat, the city of Ahmedabad is a must-visit for history and architecture lovers. It is home to several UNESCO World Heritage Sites, including the stepwell of Adalaj and the historic old city of Ahmedabad. The city is also known for its delicious street food, textile industry, and vibrant festivals.\\n\\nThe southern state of Kerala is known as \"God\\'s Own Country\" for its breathtaking natural beauty. The backwaters of Alleppey, the hill stations of Munnar, and the beaches of Kovalam are just some of the many stunning places to explore in this state. The vibrant culture and delicious cuisine make Kerala a must-visit destination in India.\\n\\nFor adventure seekers, the northern state of Uttarakhand offers plenty of options. The hill stations of Mussoorie and Nainital, the holy town of Rishikesh, and the trekking paradise of the Himalayas are all popular destinations in this state.\\n\\nThe state of Goa, located'}"
      ]
     },
     "execution_count": 25,
     "metadata": {},
     "output_type": "execute_result"
    }
   ],
   "source": [
    "from langchain.chains import SequentialChain\n",
    "\n",
    "final_seq_chain = SequentialChain(\n",
    "    chains=[capital_chain1, famous_chain1],\n",
    "    input_variables=['country'],\n",
    "    output_variables=['capital','places'],\n",
    "    verbose=True\n",
    ")\n",
    "\n",
    "final_seq_chain({'country':'India'})"
   ]
  },
  {
   "cell_type": "code",
   "execution_count": 26,
   "metadata": {},
   "outputs": [
    {
     "name": "stdout",
     "output_type": "stream",
     "text": [
      "\n",
      "\n",
      "\u001b[1m> Entering new SequentialChain chain...\u001b[0m\n",
      "\n",
      "\u001b[1m> Finished chain.\u001b[0m\n"
     ]
    },
    {
     "data": {
      "text/plain": [
       "{'country': 'India',\n",
       " 'capital': '\\n\\nIndia is a vast country located in South Asia, with a total area of 3.287 million square kilometers. It is the seventh largest country in the world by land area and the second most populous country, with a population of over 1.3 billion people.\\n\\nThe capital of India is New Delhi, located in the northern part of the country. It was established in 1911 by the British as the new capital of India, replacing Calcutta (now known as Kolkata). New Delhi is a bustling metropolis and the seat of the Indian government. It is also a major economic and cultural center, with a mix of ancient and modern architecture, including the iconic India Gate and the Red Fort.\\n\\nThe city is home to many important government buildings and institutions, such as the Indian Parliament, the Supreme Court, and the Presidential Palace. It is also a major hub for international diplomacy, with many foreign embassies and high commissions located in the city.\\n\\nNew Delhi is a melting pot of different cultures, languages, and religions. It is known for its vibrant food scene, with a variety of cuisines from different parts of the country. The city also hosts several festivals, including the famous Diwali festival of lights.\\n\\nHowever, like many other cities in India',\n",
       " 'places': ' There are several other amazing places around India that are worth visiting. These places offer a diverse range of experiences, from historical monuments to natural wonders and everything in between. Here are a few suggestions:\\n\\n1. Agra, Uttar Pradesh - Famous for the iconic Taj Mahal, Agra is a must-visit for anyone interested in history and architecture. Other popular attractions in the city include Agra Fort and Fatehpur Sikri.\\n\\n2. Jaipur, Rajasthan - Known as the \"Pink City\", Jaipur is home to stunning palaces, forts, and temples, showcasing the rich culture and heritage of Rajasthan. The city is also famous for its colorful markets and vibrant festivals.\\n\\n3. Goa - This coastal state in western India is a popular tourist destination for its stunning beaches, vibrant nightlife, and delicious seafood. It is also home to many beautiful churches and Portuguese-style architecture.\\n\\n4. Kerala - Located in the southern part of India, Kerala is known for its serene backwaters, lush greenery, and tranquil beaches. It is also famous for its Ayurvedic treatments and traditional dance forms.\\n\\n5. Ladakh, Jammu and Kashmir - This picturesque region in the northernmost part of India is a dream destination for adventure seekers. It offers stunning landscapes, high-alt'}"
      ]
     },
     "execution_count": 26,
     "metadata": {},
     "output_type": "execute_result"
    }
   ],
   "source": [
    "final_seq_chain.invoke('India')"
   ]
  },
  {
   "cell_type": "markdown",
   "metadata": {},
   "source": [
    "# Chat Models with OpenAI"
   ]
  },
  {
   "cell_type": "code",
   "execution_count": 27,
   "metadata": {},
   "outputs": [],
   "source": [
    "from langchain.chat_models import ChatOpenAI\n",
    "# above is older version, below is new version\n",
    "from langchain_openai import ChatOpenAI"
   ]
  },
  {
   "cell_type": "code",
   "execution_count": 28,
   "metadata": {},
   "outputs": [],
   "source": [
    "from langchain.schema import HumanMessage, SystemMessage, AIMessage "
   ]
  },
  {
   "cell_type": "code",
   "execution_count": 29,
   "metadata": {},
   "outputs": [],
   "source": [
    "chat_llm = ChatOpenAI(api_key=openai_key,\n",
    "                      temperature=0.6,\n",
    "                      model='gpt-3.5-turbo')"
   ]
  },
  {
   "cell_type": "code",
   "execution_count": 30,
   "metadata": {},
   "outputs": [
    {
     "data": {
      "text/plain": [
       "ChatOpenAI(client=<openai.resources.chat.completions.Completions object at 0x0000016D82301760>, async_client=<openai.resources.chat.completions.AsyncCompletions object at 0x0000016D822F2970>, temperature=0.6, openai_api_key=SecretStr('**********'), openai_proxy='')"
      ]
     },
     "execution_count": 30,
     "metadata": {},
     "output_type": "execute_result"
    }
   ],
   "source": [
    "chat_llm"
   ]
  },
  {
   "cell_type": "code",
   "execution_count": 31,
   "metadata": {},
   "outputs": [
    {
     "name": "stderr",
     "output_type": "stream",
     "text": [
      "k:\\LangChain_Projects_1\\venv\\lib\\site-packages\\langchain_core\\_api\\deprecation.py:139: LangChainDeprecationWarning: The method `BaseChatModel.__call__` was deprecated in langchain-core 0.1.7 and will be removed in 0.3.0. Use invoke instead.\n",
      "  warn_deprecated(\n"
     ]
    },
    {
     "data": {
      "text/plain": [
       "AIMessage(content='Why did the AI break up with the internet? It found someone more stimulating - a data scientist!', response_metadata={'token_usage': {'completion_tokens': 20, 'prompt_tokens': 25, 'total_tokens': 45}, 'model_name': 'gpt-3.5-turbo-0125', 'system_fingerprint': None, 'finish_reason': 'stop', 'logprobs': None}, id='run-e801423d-b4fe-43e0-8d5f-6d8d840696f4-0', usage_metadata={'input_tokens': 25, 'output_tokens': 20, 'total_tokens': 45})"
      ]
     },
     "execution_count": 31,
     "metadata": {},
     "output_type": "execute_result"
    }
   ],
   "source": [
    "chat_llm([\n",
    "    SystemMessage(content=\"You are an comedian AI assistant\"),\n",
    "    HumanMessage(content=\"Please provide a comedy punchline on AI\")\n",
    "    \n",
    "])"
   ]
  },
  {
   "cell_type": "markdown",
   "metadata": {},
   "source": [
    "# Prompt template + LLM + Output Parser"
   ]
  },
  {
   "cell_type": "code",
   "execution_count": 34,
   "metadata": {},
   "outputs": [],
   "source": [
    "from langchain.chat_models import ChatOpenAI\n",
    "from langchain_core.prompts import ChatPromptTemplate\n",
    "from langchain.schema import BaseOutputParser"
   ]
  },
  {
   "cell_type": "code",
   "execution_count": 35,
   "metadata": {},
   "outputs": [],
   "source": [
    "class Commaseperatedoutput(BaseOutputParser):\n",
    "    def parse(self, text:str):\n",
    "        return text.strip().split(\",\")"
   ]
  },
  {
   "cell_type": "code",
   "execution_count": 36,
   "metadata": {},
   "outputs": [],
   "source": [
    "template = \"You are the helpful message. When the user give any input, you should generate 5 words synonyms in comma seperated list.\"\n",
    "human_template = \"{text}\"\n",
    "chat_prompt = ChatPromptTemplate.from_messages([\n",
    "    (\"system\", template),\n",
    "    (\"human\", human_template)\n",
    "])"
   ]
  },
  {
   "cell_type": "code",
   "execution_count": 39,
   "metadata": {},
   "outputs": [],
   "source": [
    "chain = chat_prompt | chat_llm | Commaseperatedoutput()\n",
    "chain1 = chat_prompt | chat_llm"
   ]
  },
  {
   "cell_type": "code",
   "execution_count": 38,
   "metadata": {},
   "outputs": [
    {
     "data": {
      "text/plain": [
       "['Smart', ' clever', ' bright', ' sharp', ' astute']"
      ]
     },
     "execution_count": 38,
     "metadata": {},
     "output_type": "execute_result"
    }
   ],
   "source": [
    "chain.invoke({\"text\":\"Intelligent\"})"
   ]
  },
  {
   "cell_type": "code",
   "execution_count": 40,
   "metadata": {},
   "outputs": [
    {
     "data": {
      "text/plain": [
       "AIMessage(content='Smart, clever, astute, brainy, bright', response_metadata={'token_usage': {'completion_tokens': 11, 'prompt_tokens': 39, 'total_tokens': 50}, 'model_name': 'gpt-3.5-turbo-0125', 'system_fingerprint': None, 'finish_reason': 'stop', 'logprobs': None}, id='run-1f9a1aca-9705-45d0-9358-8c66ec5ac475-0', usage_metadata={'input_tokens': 39, 'output_tokens': 11, 'total_tokens': 50})"
      ]
     },
     "execution_count": 40,
     "metadata": {},
     "output_type": "execute_result"
    }
   ],
   "source": [
    "chain1.invoke({\"text\":\"Intelligent\"})"
   ]
  },
  {
   "cell_type": "markdown",
   "metadata": {},
   "source": [
    "from the above code, we can observe that we have use BaseOutputParser library to make our LLMs output \n",
    "\n",
    "in the desired way we need"
   ]
  },
  {
   "cell_type": "code",
   "execution_count": null,
   "metadata": {},
   "outputs": [],
   "source": []
  }
 ],
 "metadata": {
  "kernelspec": {
   "display_name": "Python 3",
   "language": "python",
   "name": "python3"
  },
  "language_info": {
   "codemirror_mode": {
    "name": "ipython",
    "version": 3
   },
   "file_extension": ".py",
   "mimetype": "text/x-python",
   "name": "python",
   "nbconvert_exporter": "python",
   "pygments_lexer": "ipython3",
   "version": "3.9.0"
  }
 },
 "nbformat": 4,
 "nbformat_minor": 2
}
